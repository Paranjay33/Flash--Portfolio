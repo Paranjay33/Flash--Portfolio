{
  "nbformat": 4,
  "nbformat_minor": 0,
  "metadata": {
    "colab": {
      "provenance": [],
      "authorship_tag": "ABX9TyNGD5iEf+zITyBTbzPgy91L",
      "include_colab_link": true
    },
    "kernelspec": {
      "name": "python3",
      "display_name": "Python 3"
    },
    "language_info": {
      "name": "python"
    }
  },
  "cells": [
    {
      "cell_type": "markdown",
      "metadata": {
        "id": "view-in-github",
        "colab_type": "text"
      },
      "source": [
        "<a href=\"https://colab.research.google.com/github/Paranjay33/Flash--Portfolio/blob/main/Portfolio.ipynb\" target=\"_parent\"><img src=\"https://colab.research.google.com/assets/colab-badge.svg\" alt=\"Open In Colab\"/></a>"
      ]
    },
    {
      "cell_type": "code",
      "execution_count": null,
      "metadata": {
        "colab": {
          "base_uri": "https://localhost:8080/"
        },
        "id": "VrO2EeK6JmDU",
        "outputId": "08669f8e-8369-48ac-956d-b95b3eec3d2d"
      },
      "outputs": [
        {
          "output_type": "stream",
          "name": "stdout",
          "text": [
            "Requirement already satisfied: flask in /usr/local/lib/python3.11/dist-packages (3.1.1)\n",
            "Collecting pyngrok\n",
            "  Downloading pyngrok-7.2.12-py3-none-any.whl.metadata (9.4 kB)\n",
            "Requirement already satisfied: blinker>=1.9.0 in /usr/local/lib/python3.11/dist-packages (from flask) (1.9.0)\n",
            "Requirement already satisfied: click>=8.1.3 in /usr/local/lib/python3.11/dist-packages (from flask) (8.2.1)\n",
            "Requirement already satisfied: itsdangerous>=2.2.0 in /usr/local/lib/python3.11/dist-packages (from flask) (2.2.0)\n",
            "Requirement already satisfied: jinja2>=3.1.2 in /usr/local/lib/python3.11/dist-packages (from flask) (3.1.6)\n",
            "Requirement already satisfied: markupsafe>=2.1.1 in /usr/local/lib/python3.11/dist-packages (from flask) (3.0.2)\n",
            "Requirement already satisfied: werkzeug>=3.1.0 in /usr/local/lib/python3.11/dist-packages (from flask) (3.1.3)\n",
            "Requirement already satisfied: PyYAML>=5.1 in /usr/local/lib/python3.11/dist-packages (from pyngrok) (6.0.2)\n",
            "Downloading pyngrok-7.2.12-py3-none-any.whl (26 kB)\n",
            "Installing collected packages: pyngrok\n",
            "Successfully installed pyngrok-7.2.12\n"
          ]
        }
      ],
      "source": [
        "!pip install flask pyngrok"
      ]
    },
    {
      "cell_type": "code",
      "source": [
        "from flask import Flask, request\n",
        "from pyngrok import ngrok, conf\n",
        "import threading\n",
        "\n",
        "# ✅ Set your ngrok authtoken\n",
        "conf.get_default().auth_token = \"30KP2biBTiUMZ6HhVp30tQEaPww_2KjE9BQ8nxc2BzB8MuGfk\"\n",
        "\n",
        "# Create the Flask app\n",
        "app = Flask(__name__)\n",
        "\n",
        "@app.route('/')\n",
        "def home():\n",
        "    return \"\"\"\n",
        "    <h1>Paranjay Singh Jamwal</h1>\n",
        "    <p><strong>Email:</strong> psj280307@gmail.com</p>\n",
        "    <p><strong>GitHub:</strong> <a href=\"https://github.com/Paranjay33\">Paranjay33</a></p>\n",
        "    <p><strong>LinkedIn:</strong> <a href=\"https://www.linkedin.com/in/paranjay-singh-jamwal-b06339311/\">Profile</a></p>\n",
        "    <p><a href=\"/contact\">Contact Me</a></p>\n",
        "    \"\"\"\n",
        "\n",
        "@app.route('/contact', methods=['GET', 'POST'])\n",
        "def contact():\n",
        "    if request.method == 'POST':\n",
        "        name = request.form.get('name')\n",
        "        email = request.form.get('email')\n",
        "        message = request.form.get('message')\n",
        "        print(f\"💬 Message from {name} ({email}): {message}\")\n",
        "        return \"✅ Message sent! Thank you.\"\n",
        "\n",
        "    return '''\n",
        "    <h2>Contact Form</h2>\n",
        "    <form method=\"post\">\n",
        "        <input name=\"name\" placeholder=\"Your Name\" required><br>\n",
        "        <input name=\"email\" placeholder=\"Your Email\" required><br>\n",
        "        <textarea name=\"message\" placeholder=\"Your Message\" required></textarea><br>\n",
        "        <button type=\"submit\">Send</button>\n",
        "    </form>\n",
        "    <a href=\"/\">← Back to Home</a>\n",
        "    '''\n",
        "\n",
        "# Start Flask in a background thread\n",
        "def start_flask():\n",
        "    app.run()\n",
        "\n",
        "threading.Thread(target=start_flask).start()\n",
        "\n",
        "# Start ngrok tunnel\n",
        "public_url = ngrok.connect(5000)\n",
        "print(\"🚀 Your portfolio is live at:\", public_url)"
      ],
      "metadata": {
        "colab": {
          "base_uri": "https://localhost:8080/"
        },
        "id": "Zg3EtLvWJnda",
        "outputId": "4fff6cf9-09eb-4a70-a2b6-e56440e971c6"
      },
      "execution_count": 3,
      "outputs": [
        {
          "output_type": "stream",
          "name": "stdout",
          "text": [
            " * Serving Flask app '__main__'\n",
            " * Debug mode: off\n"
          ]
        },
        {
          "output_type": "stream",
          "name": "stderr",
          "text": [
            "Address already in use\n",
            "Port 5000 is in use by another program. Either identify and stop that program, or start the server with a different port.\n"
          ]
        },
        {
          "output_type": "stream",
          "name": "stdout",
          "text": [
            "🚀 Your portfolio is live at: NgrokTunnel: \"https://bc53d25c665b.ngrok-free.app\" -> \"http://localhost:5000\"\n"
          ]
        }
      ]
    }
  ]
}